{
 "cells": [
  {
   "cell_type": "code",
   "execution_count": null,
   "metadata": {},
   "outputs": [],
   "source": [
    "#優化版\n",
    "from selenium import webdriver\n",
    "from selenium.webdriver.common.by import By\n",
    "from selenium.webdriver.edge.service import Service\n",
    "from selenium.webdriver.support.ui import WebDriverWait\n",
    "from selenium.webdriver.support import expected_conditions as EC\n",
    "import pandas as pd\n",
    "import time"
   ]
  },
  {
   "cell_type": "code",
   "execution_count": null,
   "metadata": {},
   "outputs": [],
   "source": [
    "\n",
    "# 配置和初始化\n",
    "PATH = \"C:\\\\selenium\\\\msedgedriver.exe\"  # 确保路径正确\n",
    "course_path = \"https://course.ntu.edu.tw/search/general\"  # 替换为实际的网页地址\n",
    "output_path = \"courses.csv\"  # 输出文件路径\n",
    "\n",
    "service = Service(PATH)\n",
    "driver = webdriver.Edge(service=service)\n",
    "\n",
    "# 打开网页\n",
    "driver.get(course_path)\n",
    "\n",
    "# 等待页面加载并点击按钮（如果需要）\n",
    "wait = WebDriverWait(driver, 10)\n",
    "try:\n",
    "    click_button = wait.until(EC.element_to_be_clickable((By.XPATH, \"/html/body/div[2]/div[3]/div/div/div/button\")))\n",
    "    click_button.click()\n",
    "except Exception as e:\n",
    "    print(f\"无法点击按钮: {e}\")\n"
   ]
  },
  {
   "cell_type": "code",
   "execution_count": null,
   "metadata": {},
   "outputs": [],
   "source": [
    "\n",
    "# 初始化变量\n",
    "info_list = []  # 用于存储课程信息\n",
    "last_height = driver.execute_script(\"return document.body.scrollHeight\")  # 获取初始页面高度\n",
    "# 初始化一个集合，用于存储已经抓取过的课程名称\n",
    "seen_courses = set()\n",
    "\n",
    "while True:\n",
    "    # 等待页面加载完成\n",
    "    courses = wait.until(EC.presence_of_all_elements_located((By.XPATH, \"/html/body/div/main/div[6]/div/div[2]/ul/li\")))\n",
    "\n",
    "    # 遍历课程元素并抓取数据\n",
    "    for course in courses:\n",
    "        try:\n",
    "            # 课程名称\n",
    "            course_name = course.find_element(By.XPATH, \".//div[2]/h2/a\").text.strip()\n",
    "            # 老师\n",
    "            teacher = course.find_element(By.XPATH, \".//div[2]/div/div[1]\").text.strip()\n",
    "            # 学分\n",
    "            credits = course.find_element(By.XPATH, \".//div[3]/div[2]\").text.strip()\n",
    "\n",
    "            # 检查是否已经抓取过这个课程\n",
    "            if course_name not in seen_courses:\n",
    "                seen_courses.add(course_name)  # 将课程名称添加到集合中\n",
    "                info_list.append({\"課程名稱\": course_name, \"老師\": teacher, \"學分數\": credits})\n",
    "                print(f\"課程名稱: {course_name}, 老師: {teacher}, 學分數: {credits}\")\n",
    "            else:\n",
    "                print(f\"课程 {course_name} 已经抓取过，跳过。\")\n",
    "        except Exception as e:\n",
    "            print(f\"无法获取课程信息: {e}\")\n",
    "\n",
    "    # 滚动页面到底部\n",
    "    driver.execute_script(\"window.scrollTo(0, document.body.scrollHeight);\")\n",
    "    time.sleep(1)  # 等待页面加载新内容\n",
    "\n",
    "    # 检查是否滚动到底部\n",
    "    new_height = driver.execute_script(\"return document.body.scrollHeight\")\n",
    "    if new_height == last_height:\n",
    "        print(\"已经滚动到底部，停止滚动。\")\n",
    "        break\n",
    "    last_height = new_height"
   ]
  },
  {
   "cell_type": "code",
   "execution_count": null,
   "metadata": {},
   "outputs": [],
   "source": [
    "# 将数据保存为CSV文件\n",
    "info_df = pd.DataFrame(info_list, columns=[\"課程名稱\", \"老師\", \"學分數\"])\n",
    "info_df.to_csv(output_path, index=False, encoding='utf-8-sig')\n",
    "print(f\"CSV文件已保存至: {output_path}\")\n",
    "\n",
    "# 关闭浏览器\n",
    "driver.quit()"
   ]
  }
 ],
 "metadata": {
  "kernelspec": {
   "display_name": "base",
   "language": "python",
   "name": "python3"
  },
  "language_info": {
   "codemirror_mode": {
    "name": "ipython",
    "version": 3
   },
   "file_extension": ".py",
   "mimetype": "text/x-python",
   "name": "python",
   "nbconvert_exporter": "python",
   "pygments_lexer": "ipython3",
   "version": "3.12.3"
  }
 },
 "nbformat": 4,
 "nbformat_minor": 2
}
