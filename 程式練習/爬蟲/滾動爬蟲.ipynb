{
 "cells": [
  {
   "cell_type": "code",
   "execution_count": null,
   "metadata": {},
   "outputs": [],
   "source": [
    "from selenium import webdriver\n",
    "from selenium.webdriver.common.by import By\n",
    "from selenium.webdriver.edge.service import Service\n",
    "from selenium.webdriver.support.ui import WebDriverWait\n",
    "from selenium.webdriver.support import expected_conditions as EC\n",
    "import pandas as pd \n",
    "import requests\n",
    "from bs4 import BeautifulSoup\n",
    "import time\n",
    "import csv"
   ]
  },
  {
   "cell_type": "code",
   "execution_count": null,
   "metadata": {},
   "outputs": [],
   "source": [
    "PATH = \"C:\\selenium\\msedgedriver.exe\"\n",
    "course_path = r\"https://course.ntu.edu.tw/search/dept\"\n",
    "output_path = \"course.csv\"\n",
    "service = Service(PATH)\n",
    "driver = webdriver.Edge(service=service)\n",
    "r = requests.get(course_path)\n",
    "soup = BeautifulSoup(r.text, 'html.parser')\n",
    "driver.get(\"https://course.ntu.edu.tw/search/general\")\n"
   ]
  },
  {
   "cell_type": "code",
   "execution_count": null,
   "metadata": {},
   "outputs": [],
   "source": [
    "wait = WebDriverWait(driver, 10)\n",
    "click_button = wait.until(EC.element_to_be_clickable((By.XPATH, \"/html/body/div[2]/div[3]/div/div/div/button\")))\n",
    "click_button.click()"
   ]
  },
  {
   "cell_type": "code",
   "execution_count": null,
   "metadata": {},
   "outputs": [],
   "source": [
    "# 設定 DataFrame 列\n",
    "info_list = []  # 用來儲存課程資訊的列表\n",
    "\n",
    "wait = WebDriverWait(driver, 10)\n",
    "courses = wait.until(EC.presence_of_all_elements_located((By.XPATH, \"//ul/li/div[2]/h2/a\")))\n",
    "\n",
    "last_height = driver.execute_script(\"return document.body.scrollHeight\")\n",
    "\n",
    "# 無限滾動，直到頁面到底部\n",
    "while True:\n",
    "    # 等待頁面加載並抓取所有課程資訊\n",
    "    courses = wait.until(EC.presence_of_all_elements_located((By.XPATH, \"//ul/li\")))\n",
    "\n",
    "    # 逐一取得課程資訊\n",
    "    for course in courses:\n",
    "        try:\n",
    "            # 課程名稱\n",
    "            course_name = course.find_element(By.XPATH, \".//div[2]/h2/a\").text.strip()\n",
    "\n",
    "            # 老師\n",
    "            teacher = course.find_element(By.XPATH, \".//div[2]/div\").text.strip()\n",
    "\n",
    "            # 學分數\n",
    "            credits = course.find_element(By.XPATH, \".//div[3]/div[2]\").text.strip()\n",
    "\n",
    "            # 儲存到列表中\n",
    "            info_list.append({\"課程名稱\": course_name, \"老師\": teacher, \"學分數\": credits})\n",
    "\n",
    "            # 印出結果\n",
    "            print(f\"課程名稱: {course_name}, 老師: {teacher}, 學分數: {credits}\")\n",
    "        \n",
    "        except Exception as e:\n",
    "            print(f\"❌ 無法獲取課程資訊: {e}\")\n",
    "\n",
    "    # 滾動頁面\n",
    "    driver.execute_script(\"\"\"\n",
    "        window.scrollTo(0, document.body.scrollHeight);\n",
    "    \"\"\")\n",
    "    time.sleep(1)  # 等待 1 秒，讓頁面加載新內容\n",
    "\n",
    "    # 檢查新的頁面高度\n",
    "    new_height = driver.execute_script(\"return document.body.scrollHeight\")\n",
    "    # 如果頁面高度沒變，表示已經到底部，停止滾動\n",
    "    if new_height == last_height:\n",
    "        print(\"已經滾動到底部，停止滾動。\")\n",
    "        break\n",
    "\n",
    "    last_height = new_height\n",
    "\n",
    "# 將資料轉換為 DataFrame\n",
    "info = pd.DataFrame(info_list, columns=[\"課程名稱\", \"老師\", \"學分數\"])\n",
    "\n",
    "# 印出資料\n",
    "print(info)\n",
    "info.head()\n"
   ]
  },
  {
   "cell_type": "code",
   "execution_count": null,
   "metadata": {},
   "outputs": [],
   "source": [
    "# 儲存 DataFrame 到 CSV\n",
    "output_path = \"courses.csv\"  # 設定檔案儲存路徑\n",
    "info.to_csv(output_path, index=False, encoding='utf-8-sig')  # 使用 utf-8-sig 避免中文亂碼\n",
    "print(f\"CSV 檔案已儲存至: {output_path}\")\n"
   ]
  }
 ],
 "metadata": {
  "kernelspec": {
   "display_name": "base",
   "language": "python",
   "name": "python3"
  },
  "language_info": {
   "codemirror_mode": {
    "name": "ipython",
    "version": 3
   },
   "file_extension": ".py",
   "mimetype": "text/x-python",
   "name": "python",
   "nbconvert_exporter": "python",
   "pygments_lexer": "ipython3",
   "version": "3.12.3"
  }
 },
 "nbformat": 4,
 "nbformat_minor": 2
}
