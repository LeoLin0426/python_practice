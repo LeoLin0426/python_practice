{
 "cells": [
  {
   "cell_type": "code",
   "execution_count": 4,
   "metadata": {},
   "outputs": [],
   "source": [
    "import requests\n",
    "from bs4 import BeautifulSoup\n",
    "from lxml import etree\n",
    "import pandas as pd\n",
    "from concurrent.futures import ThreadPoolExecutor\n"
   ]
  },
  {
   "cell_type": "code",
   "execution_count": 5,
   "metadata": {},
   "outputs": [],
   "source": [
    "url = 'https://tw.stock.yahoo.com/quote/3481.TW'    # 輸入Yahoo 股市類股網址\n",
    "web = requests.get(url)                          # 取得網頁內容(html)\n",
    "tree = etree.HTML(web.text)    # 解析網頁內容 用lxml解析器\n"
   ]
  },
  {
   "cell_type": "code",
   "execution_count": 6,
   "metadata": {},
   "outputs": [
    {
     "name": "stdout",
     "output_type": "stream",
     "text": [
      "群創\n"
     ]
    }
   ],
   "source": [
    "title = tree.xpath('//*[@id=\"main-0-QuoteHeader-Proxy\"]/div/div[1]/h1')    # 股票名稱\n",
    "print(title[0].text)"
   ]
  },
  {
   "cell_type": "code",
   "execution_count": 7,
   "metadata": {},
   "outputs": [
    {
     "name": "stdout",
     "output_type": "stream",
     "text": [
      "13.80\n"
     ]
    }
   ],
   "source": [
    "a = tree.xpath('//*[@id=\"main-0-QuoteHeader-Proxy\"]/div/div[2]/div[1]/div/span[1]')    # 股價\n",
    "print(a[0].text)\n"
   ]
  },
  {
   "cell_type": "code",
   "execution_count": 8,
   "metadata": {},
   "outputs": [
    {
     "name": "stdout",
     "output_type": "stream",
     "text": [
      "(1.47%)\n"
     ]
    }
   ],
   "source": [
    "b = tree.xpath('//*[@id=\"main-0-QuoteHeader-Proxy\"]/div/div[2]/div[1]/div/span[3]')  # 漲跌\n",
    "print(b[0].text)"
   ]
  },
  {
   "cell_type": "code",
   "execution_count": 11,
   "metadata": {},
   "outputs": [],
   "source": [
    "soup=BeautifulSoup(web.text,'html.parser')    # 解析網頁內容 用beautifulsoup解析器 ，為了後面抓trend up or down 用的"
   ]
  },
  {
   "cell_type": "code",
   "execution_count": 12,
   "metadata": {},
   "outputs": [
    {
     "name": "stdout",
     "output_type": "stream",
     "text": [
      "+\n"
     ]
    },
    {
     "name": "stderr",
     "output_type": "stream",
     "text": [
      "<>:3: SyntaxWarning: invalid escape sequence '\\('\n",
      "<>:7: SyntaxWarning: invalid escape sequence '\\('\n",
      "<>:3: SyntaxWarning: invalid escape sequence '\\('\n",
      "<>:7: SyntaxWarning: invalid escape sequence '\\('\n",
      "C:\\Users\\user\\AppData\\Local\\Temp\\ipykernel_12900\\842584045.py:3: SyntaxWarning: invalid escape sequence '\\('\n",
      "  if soup.select('#main-0-QuoteHeader-Proxy')[0].select('.C\\(\\$c-trend-down\\)')[0]:\n",
      "C:\\Users\\user\\AppData\\Local\\Temp\\ipykernel_12900\\842584045.py:7: SyntaxWarning: invalid escape sequence '\\('\n",
      "  if soup.select('#main-0-QuoteHeader-Proxy')[0].select('.C\\(\\$c-trend-up\\)')[0]:\n"
     ]
    }
   ],
   "source": [
    "s = ''\n",
    "try:\n",
    "    if soup.select('#main-0-QuoteHeader-Proxy')[0].select('.C\\(\\$c-trend-down\\)')[0]:\n",
    "        s = '-'\n",
    "except:\n",
    "    try:\n",
    "        if soup.select('#main-0-QuoteHeader-Proxy')[0].select('.C\\(\\$c-trend-up\\)')[0]:\n",
    "            s = '+'\n",
    "    except:\n",
    "        s = '-'\n",
    "print(s)\n"
   ]
  },
  {
   "cell_type": "code",
   "execution_count": 13,
   "metadata": {},
   "outputs": [
    {
     "name": "stdout",
     "output_type": "stream",
     "text": [
      "群創 : 13.80  +(1.47%) \n"
     ]
    }
   ],
   "source": [
    "print(f'{title[0].text} : {a[0].text}  {s}{b[0].text} ')  # 印出结果\n"
   ]
  }
 ],
 "metadata": {
  "kernelspec": {
   "display_name": "base",
   "language": "python",
   "name": "python3"
  },
  "language_info": {
   "codemirror_mode": {
    "name": "ipython",
    "version": 3
   },
   "file_extension": ".py",
   "mimetype": "text/x-python",
   "name": "python",
   "nbconvert_exporter": "python",
   "pygments_lexer": "ipython3",
   "version": "3.12.3"
  }
 },
 "nbformat": 4,
 "nbformat_minor": 2
}
