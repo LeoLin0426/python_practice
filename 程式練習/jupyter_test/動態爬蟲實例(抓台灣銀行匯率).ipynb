{
 "cells": [
  {
   "cell_type": "code",
   "execution_count": 7,
   "metadata": {},
   "outputs": [],
   "source": [
    "from selenium import webdriver\n",
    "from selenium.webdriver.edge.service import Service\n",
    "from selenium.webdriver.common.by import By\n",
    "from selenium.common.exceptions import NoSuchElementException\n",
    "import time\n",
    "import os"
   ]
  },
  {
   "cell_type": "code",
   "execution_count": 8,
   "metadata": {},
   "outputs": [],
   "source": [
    "# 指定Edge WebDriver的路徑\n",
    "PATH = r\"C:\\selenium\\msedgedriver.exe\"  \n",
    "service = Service(PATH)\n",
    "\n",
    "# 設置下載路徑\n",
    "download_path = r\"C:\\Users\\user\\OneDrive\\Desktop\\匯率資料\"  "
   ]
  },
  {
   "cell_type": "code",
   "execution_count": 9,
   "metadata": {},
   "outputs": [],
   "source": [
    "# 配置Edge選項，當你需要控制文件下載行為時。通過配置Edge瀏覽器的選項，確保文件能夠下載到指定路徑，而不會出現意外的下載行為或彈出下載提示框。\n",
    "edge_options = webdriver.EdgeOptions()\n",
    "edge_options.add_experimental_option(\"prefs\", {\n",
    "    \"download.default_directory\": download_path,\n",
    "    \"download.prompt_for_download\": False,\n",
    "    \"download.directory_upgrade\": True,\n",
    "    \"safebrowsing.enabled\": True\n",
    "})"
   ]
  },
  {
   "cell_type": "code",
   "execution_count": null,
   "metadata": {},
   "outputs": [],
   "source": [
    "\n",
    "# 初始化Edge WebDriver\n",
    "driver = webdriver.Edge(service=service, options=edge_options)\n",
    "\n",
    "# 打開網頁\n",
    "driver.get('https://rate.bot.com.tw/xrt?Lang=zh-TW')\n"
   ]
  },
  {
   "cell_type": "code",
   "execution_count": 11,
   "metadata": {},
   "outputs": [
    {
     "name": "stdout",
     "output_type": "stream",
     "text": [
      "無法定位下載鏈接，請檢查網頁鏈接的合法性或稍後重試。\n"
     ]
    }
   ],
   "source": [
    "# 查找並點擊下載\n",
    "try:\n",
    "    download_csv = driver.find_element(By.LINK_TEXT, '下載 Excel (CSV) 檔')\n",
    "    download_csv.click()\n",
    "    print(\"下載鏈接已點擊，文件將保存到：\", download_path)\n",
    "except NoSuchElementException:\n",
    "    print('無法定位下載鏈接，請檢查網頁鏈接的合法性或稍後重試。')\n",
    "except Exception as e:\n",
    "    print(f\"發生錯誤：{e}\")\n",
    "finally:\n",
    "    # 等待文件下載完成\n",
    "    time.sleep(10)\n",
    "    driver.quit()"
   ]
  },
  {
   "cell_type": "code",
   "execution_count": 12,
   "metadata": {},
   "outputs": [
    {
     "name": "stdout",
     "output_type": "stream",
     "text": [
      "文件未下載到指定路徑：C:\\Users\\user\\OneDrive\\Desktop\\匯率資料\n"
     ]
    }
   ],
   "source": [
    "# 檢查文件是否下載成功\n",
    "file_name = \"匯率資料.xlsx\"  # 文件名\n",
    "file_path = os.path.join(download_path, file_name)\n",
    "if os.path.exists(file_path):\n",
    "    print(f\"文件已成功下載到：{file_path}\")\n",
    "else:\n",
    "    print(f\"文件未下載到指定路徑：{download_path}\")"
   ]
  }
 ],
 "metadata": {
  "kernelspec": {
   "display_name": "base",
   "language": "python",
   "name": "python3"
  },
  "language_info": {
   "codemirror_mode": {
    "name": "ipython",
    "version": 3
   },
   "file_extension": ".py",
   "mimetype": "text/x-python",
   "name": "python",
   "nbconvert_exporter": "python",
   "pygments_lexer": "ipython3",
   "version": "3.12.3"
  }
 },
 "nbformat": 4,
 "nbformat_minor": 2
}
